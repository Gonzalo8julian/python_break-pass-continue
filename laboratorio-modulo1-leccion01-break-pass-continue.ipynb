{
 "cells": [
  {
   "cell_type": "markdown",
   "metadata": {},
   "source": [
    "\n",
    "<div style=\"text-align: center;\">\n",
    "  <img src=\"https://github.com/Hack-io-Data/Imagenes/blob/main/01-LogosHackio/logo_celeste@4x.png?raw=true\" alt=\"esquema\" />\n",
    "</div>\n"
   ]
  },
  {
   "cell_type": "markdown",
   "metadata": {},
   "source": [
    "# Laboratorio de Python: break(), pass(), continue()"
   ]
  },
  {
   "cell_type": "markdown",
   "metadata": {},
   "source": [
    "## Ejercicio 1: Validación de datos numéricos. \n",
    "\n",
    "Escribe un bucle que lea una lista de números y detenga la ejecución si encuentra un valor negativo. Muestra un mensaje indicando el número negativo encontrado.\n"
   ]
  },
  {
   "cell_type": "code",
   "execution_count": 6,
   "metadata": {},
   "outputs": [
    {
     "name": "stdout",
     "output_type": "stream",
     "text": [
      "1\n",
      "2\n",
      "El numero negativo encontrado es -3\n"
     ]
    }
   ],
   "source": [
    "lista_numeros = [1, 2, -3, 4]\n",
    "\n",
    "for numero in lista_numeros:\n",
    "    if numero >= 0:\n",
    "        print(numero)\n",
    "    else:\n",
    "        print(f\"El numero negativo encontrado es {numero}\")\n",
    "        break\n",
    "        "
   ]
  },
  {
   "cell_type": "markdown",
   "metadata": {},
   "source": [
    "\n",
    "## Ejercicio 2: Filtrado de datos\n",
    "\n",
    "Escribe un bucle que imprima los números de una lista, pero que omita los números pares.\n"
   ]
  },
  {
   "cell_type": "code",
   "execution_count": 8,
   "metadata": {},
   "outputs": [
    {
     "name": "stdout",
     "output_type": "stream",
     "text": [
      "1\n",
      "-3\n",
      "7\n"
     ]
    }
   ],
   "source": [
    "lista_numeros1 = [1, 2, -3, 4, 6 ,7, 8]\n",
    "\n",
    "for numero in lista_numeros1:\n",
    "    if numero %2 == 0:\n",
    "        continue\n",
    "    else: \n",
    "        print(numero)"
   ]
  },
  {
   "cell_type": "markdown",
   "metadata": {},
   "source": [
    "## Ejercicio 3: Búsqueda de un valor\n",
    "\n",
    "Escribe un programa que busque un valor específico en una lista y detenga la búsqueda cuando lo encuentre. Si se encuentra, muestra un mensaje.\n"
   ]
  },
  {
   "cell_type": "code",
   "execution_count": 13,
   "metadata": {},
   "outputs": [],
   "source": [
    "def buscar_valor_especifico(lista, valor):\n",
    "    for numero in lista:\n",
    "        if numero != valor: \n",
    "            print(numero)\n",
    "        else:\n",
    "            print(f\"Hemos encontrado el valor {valor}, aquí está\")\n",
    "            break\n"
   ]
  },
  {
   "cell_type": "code",
   "execution_count": 16,
   "metadata": {},
   "outputs": [
    {
     "name": "stdout",
     "output_type": "stream",
     "text": [
      "2\n",
      "3\n",
      "4\n",
      "5\n",
      "6\n",
      "7\n",
      "Hemos encontrado el valor 8, aquí está\n"
     ]
    }
   ],
   "source": [
    "buscar_valor_especifico([2,3,4,5,6,7,8,9,10,11,12], 8)"
   ]
  },
  {
   "cell_type": "markdown",
   "metadata": {},
   "source": [
    "## Ejercicio 4: Estructura de código incompleto\n",
    "\n",
    "Define una función que aún no tenga lógica implementada, pero que se pueda ejecutar sin errores utilizando `pass`."
   ]
  },
  {
   "cell_type": "code",
   "execution_count": 18,
   "metadata": {},
   "outputs": [],
   "source": [
    "def funcion_sin_logica():\n",
    "    for i in lista_numeros:\n",
    "        if lista_numeros == str:\n",
    "            pass"
   ]
  },
  {
   "cell_type": "markdown",
   "metadata": {},
   "source": [
    "## Ejercicio 5: Validación condicional\n",
    "\n",
    "Escribe un bucle que verifique una lista de nombres. Si encuentra un nombre vacío (cadena vacía), salta esa iteración y continúa con los demás nombres.\n"
   ]
  },
  {
   "cell_type": "code",
   "execution_count": 20,
   "metadata": {},
   "outputs": [
    {
     "name": "stdout",
     "output_type": "stream",
     "text": [
      "Gonzalo\n",
      "Laura\n",
      "Maria\n"
     ]
    }
   ],
   "source": [
    "lista_nombres = [\"Gonzalo\", \"\", \"Laura\", \"\", \"Maria\"]\n",
    "\n",
    "for nombre in lista_nombres:\n",
    "    if nombre == \"\":\n",
    "        continue\n",
    "    else:\n",
    "        print(nombre)"
   ]
  },
  {
   "cell_type": "markdown",
   "metadata": {},
   "source": [
    "## Ejercicio 6: Búsqueda de claves en un diccionario\n",
    "\n",
    "Escribe un programa que recorra un diccionario y detenga la búsqueda si encuentra una clave específica pasada por el usuario.\n"
   ]
  },
  {
   "cell_type": "code",
   "execution_count": 68,
   "metadata": {},
   "outputs": [],
   "source": [
    "diccionario1 = {'Nombre': 'Gonzalo', 'edad': 30, 'Nacionalidad': 'española'}\n",
    "\n",
    "def buscar_diccionario(diccionario1):\n",
    "    busqueda = input(f\"Selecciona un valor del diccionario {diccionario1}\")\n",
    "    for key, valor in diccionario1.items():\n",
    "        print(key,valor)\n",
    "        if int(busqueda) == valor:\n",
    "            break"
   ]
  },
  {
   "cell_type": "code",
   "execution_count": 69,
   "metadata": {},
   "outputs": [
    {
     "name": "stdout",
     "output_type": "stream",
     "text": [
      "Nombre Gonzalo\n",
      "edad 30\n"
     ]
    }
   ],
   "source": [
    "diccionario1 = {'Nombre': 'Gonzalo', 'edad': 30, 'Nacionalidad': 'española'}\n",
    "\n",
    "buscar_diccionario(diccionario1,)"
   ]
  },
  {
   "cell_type": "markdown",
   "metadata": {},
   "source": [
    "## Ejercicio 7: Bucle con múltiples excepciones\n",
    "\n",
    "Escribe un bucle que procese una lista de operaciones matemáticas, omitiendo las operaciones que intenten dividir por cero.\n"
   ]
  },
  {
   "cell_type": "code",
   "execution_count": 73,
   "metadata": {},
   "outputs": [
    {
     "name": "stdout",
     "output_type": "stream",
     "text": [
      "La lista de divisiones conteiene las siguientes operaciones:[]\n",
      "None no se puede dividir entre 0\n",
      "La lista de divisiones después de las divisiones contiene: [-0.6666666666666666, -1.0, -2.0, 2.0, 1.0, 0.6666666666666666, 0.5, 0.4]\n"
     ]
    }
   ],
   "source": [
    "lista_divisiones = []\n",
    "print(f\"La lista de divisiones conteiene las siguientes operaciones:{lista_divisiones}\")\n",
    "\n",
    "for i in range(-3,6):\n",
    "    try:\n",
    "        resultado = lista_divisiones.append(2/i)\n",
    "    except:\n",
    "        print(f\"{resultado} no se puede dividir entre 0\")\n",
    "        continue\n",
    "\n",
    "print(F\"La lista de divisiones después de las divisiones contiene: {lista_divisiones}\")"
   ]
  },
  {
   "cell_type": "markdown",
   "metadata": {},
   "source": [
    "## Ejercicio 8: Búsqueda en una lista anidada\n",
    "\n",
    "Escribe un programa que recorra una lista de listas y detenga la búsqueda cuando encuentre un valor mayor a 50.\n"
   ]
  },
  {
   "cell_type": "code",
   "execution_count": 90,
   "metadata": {},
   "outputs": [
    {
     "name": "stdout",
     "output_type": "stream",
     "text": [
      "[2, 30, 45]\n",
      "[1, 56, 32]\n",
      "El número 56 es mayor de 50 y, por lo tanto, detenemos la búsqueda.\n"
     ]
    }
   ],
   "source": [
    "Lista_de_listas = [[2,30,45], [1,56,32], [1,1,1]]\n",
    "numero_mayor_50 = 0\n",
    "\n",
    "for lista in Lista_de_listas:\n",
    "    print(lista)\n",
    "    for i in lista:\n",
    "        if i >= 50:\n",
    "            numero_mayor_50 = i\n",
    "            print(f\"El número {i} es mayor de 50 y, por lo tanto, detenemos la búsqueda.\")\n",
    "            break\n",
    "    if numero_mayor_50:\n",
    "        break    "
   ]
  },
  {
   "cell_type": "markdown",
   "metadata": {},
   "source": [
    "## Ejercicio 9: Evaluación de series temporales\n",
    "\n",
    "Escribe un programa que recorra una lista de datos de series temporales y se detenga si encuentra un valor atípico (mayor a 100).\n"
   ]
  },
  {
   "cell_type": "code",
   "execution_count": null,
   "metadata": {},
   "outputs": [
    {
     "name": "stdout",
     "output_type": "stream",
     "text": [
      "{'fecha': '2024-11-01', 'ventas': 85}\n",
      "{'fecha': '2024-11-02', 'ventas': 92}\n",
      "{'fecha': '2024-11-03', 'ventas': 78}\n",
      "{'fecha': '2024-11-04', 'ventas': 95}\n",
      "En el elemento 'fecha': 2024-11-05, 'ventas': 110 el número de ventas es superior a 100, por lo que detenemos la búsqueda.\n"
     ]
    }
   ],
   "source": [
    "series_temporales = [\n",
    "    {\"fecha\": \"2024-11-01\", \"ventas\": 85},\n",
    "    {\"fecha\": \"2024-11-02\", \"ventas\": 92},\n",
    "    {\"fecha\": \"2024-11-03\", \"ventas\": 78},\n",
    "    {\"fecha\": \"2024-11-04\", \"ventas\": 95},\n",
    "    {\"fecha\": \"2024-11-05\", \"ventas\": 110},\n",
    "    {\"fecha\": \"2024-11-06\", \"ventas\": 88},\n",
    "    {\"fecha\": \"2024-11-07\", \"ventas\": 97}\n",
    "]\n",
    "\n",
    "for i in series_temporales:\n",
    "    fecha = i[\"fecha\"]\n",
    "    ventas = i[\"ventas\"]\n",
    "    if ventas > 100:\n",
    "        print( f\"En el elemento 'fecha': {fecha}, 'ventas': {ventas} el número de ventas es superior a 100, por lo que detenemos la búsqueda.\")\n",
    "        break\n",
    "    \n",
    "    print(i)"
   ]
  },
  {
   "cell_type": "markdown",
   "metadata": {},
   "source": [
    "## Ejercicio 10: Iteración con valores faltantes\n",
    "\n",
    "Crea un bucle que recorra una lista de datos de ventas y salte los valores faltantes representados por `None`."
   ]
  },
  {
   "cell_type": "code",
   "execution_count": 102,
   "metadata": {},
   "outputs": [
    {
     "name": "stdout",
     "output_type": "stream",
     "text": [
      "85\n",
      "92\n",
      "Aquí habría un 'None', pero lo saltamos\n",
      "95\n",
      "Aquí habría un 'None', pero lo saltamos\n",
      "88\n",
      "97\n"
     ]
    }
   ],
   "source": [
    "numero_ventas = [85, 92, None, 95, None, 88, 97]\n",
    "\n",
    "for ventas in numero_ventas:\n",
    "    if ventas == None:\n",
    "        print(f\"Aquí habría un 'None', pero lo saltamos\")\n",
    "        continue\n",
    "    else:\n",
    "        print(ventas)\n"
   ]
  },
  {
   "cell_type": "markdown",
   "metadata": {},
   "source": [
    "## Ejercicio 11: Control de flujo en bucles anidados\n",
    "\n",
    "Escribe un bucle que recorra la matriz dada y se detenga si se encuentra un número negativo, mostrando su posición.\n",
    "\n"
   ]
  },
  {
   "cell_type": "code",
   "execution_count": 115,
   "metadata": {},
   "outputs": [
    {
     "name": "stdout",
     "output_type": "stream",
     "text": [
      "[1, 2, 3]\n",
      "[4, 5, 6]\n",
      "[7, -8, 9]\n",
      "El numero -8 es negativo y se encuentra en la posición [2, 1]\n"
     ]
    }
   ],
   "source": [
    "matriz = [\n",
    "    [1, 2, 3],\n",
    "    [4, 5, 6],\n",
    "    [7, -8, 9]\n",
    "]\n",
    "\n",
    "numero_negativo = 0\n",
    "for lista in matriz:\n",
    "    print(lista)\n",
    "    for numero in lista:\n",
    "        if numero < 0:\n",
    "            numero_negativo = numero\n",
    "            print(f\"El numero {numero} es negativo y se encuentra en la posición [{matriz.index(lista)}, {lista.index(numero)}]\")\n",
    "            break\n",
    "    if numero_negativo:\n",
    "        break "
   ]
  }
 ],
 "metadata": {
  "kernelspec": {
   "display_name": "Python 3",
   "language": "python",
   "name": "python3"
  },
  "language_info": {
   "codemirror_mode": {
    "name": "ipython",
    "version": 3
   },
   "file_extension": ".py",
   "mimetype": "text/x-python",
   "name": "python",
   "nbconvert_exporter": "python",
   "pygments_lexer": "ipython3",
   "version": "3.9.6"
  }
 },
 "nbformat": 4,
 "nbformat_minor": 2
}
